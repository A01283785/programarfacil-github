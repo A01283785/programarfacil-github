{
 "cells": [
  {
   "cell_type": "markdown",
   "metadata": {},
   "source": [
    "# Classification of Handwritten digits\n",
    "> This code provides a simple example of a classification of images with handwritten digits (going from 0 to 9), using the KNN method from the scikit-learn library."
   ]
  },
  {
   "cell_type": "code",
   "execution_count": 45,
   "metadata": {},
   "outputs": [],
   "source": [
    "from sklearn import datasets\n",
    "import matplotlib.pyplot as plt\n",
    "from sklearn.neighbors import KNeighborsClassifier\n",
    "import numpy as np\n",
    "from sklearn.metrics import accuracy_score, multilabel_confusion_matrix, ConfusionMatrixDisplay\n",
    "from sklearn.naive_bayes import GaussianNB\n",
    "from sklearn.tree import DecisionTreeClassifier\n",
    "from sklearn.discriminant_analysis import LinearDiscriminantAnalysis"
   ]
  },
  {
   "cell_type": "markdown",
   "metadata": {},
   "source": [
    "You will save all the relevant information in the variable <b>digits</b>. With the attribute <b>.target</b> you can access the labels (in this case the labels are numbers from 0 to 9 depending on what is written in the image). The attribute <b>.images</b> allows you to access to the images in their matrix form (8x8 pixels), while <b>.data</b> contains the flatten version, namely, the pixels in vector form (As you want to work with features, these are the ones that you need!).\n",
    "\n",
    "It can be convenient to look at the images (if you are using jupyter try, probably you are not going to be able to display the images, do not worry for that, just skip it)."
   ]
  },
  {
   "cell_type": "code",
   "execution_count": 46,
   "metadata": {},
   "outputs": [
    {
     "name": "stdout",
     "output_type": "stream",
     "text": [
      "Labels' size:  (1797,)\n",
      "Features' size:  (1797, 64)\n",
      "Images' size:  (1797, 8, 8)\n"
     ]
    },
    {
     "data": {
      "image/png": "[encoded data removed]",
      "text/plain": [
       "<Figure size 1440x720 with 10 Axes>"
      ]
     },
     "metadata": {
      "needs_background": "light"
     },
     "output_type": "display_data"
    }
   ],
   "source": [
    "# Set global random state\n",
    "np.random.seed(31415)\n",
    "\n",
    "# Load the dataset\n",
    "digits = datasets.load_digits()\n",
    "\n",
    "# Print the relevant information\n",
    "print(\"Labels' size: \", digits.target.shape) # One label (0, 1, 2, 3, 4, 5, 6, 7, 8 or 9) per subject\n",
    "print(\"Features' size: \", digits.data.shape) # [no. of subject, no. of features]\n",
    "print(\"Images' size: \", digits.images.shape) # [no. of subject, width, height]\n",
    "\n",
    "# Display samples of images\n",
    "fig = plt.figure(figsize=(20,10))\n",
    "\n",
    "for i in range(10):\n",
    "    a = fig.add_subplot(1, 10, i+1)\n",
    "    imgplot = plt.imshow(digits.images[i])\n"
   ]
  },
  {
   "cell_type": "markdown",
   "metadata": {},
   "source": [
    "Before starting with the machine learning, you want to correctly split your data. You need to obtain a training set of 80% of your original data and the rest for a testing set. You're goint to use <b>X</b> to save your features and <b>Y</b> for the labels.\n",
    "\n",
    "As you already saw in the previous images plots, your dataset comes in order (zero first, then a one, etc), therefore you need to shuffle your data before using it to train the ML method so that this does not influence the result. The shuffling should be among subjects, but you need to keep the features corresponding to a specific subject matching the label of the subject, therefore the shuffling shoud be made only by row (remember from your previous prints that the subjects are stored by row)"
   ]
  },
  {
   "cell_type": "code",
   "execution_count": 47,
   "metadata": {},
   "outputs": [
    {
     "name": "stdout",
     "output_type": "stream",
     "text": [
      "\u001b[1mData size\u001b[0m\n",
      "x train:  (1438, 64)\n",
      "y train:  (1438,)\n",
      "x test:  (359, 64)\n",
      "y test:  (359,)\n",
      "\n",
      "\n",
      "\u001b[1mFeature + label size\u001b[0m\n",
      "train:  (1438, 65)\n",
      "test:  (359, 65)\n",
      "\n",
      "\n",
      "\u001b[1mExamples before shuffling\u001b[0m\n",
      "train:\n",
      " [[ 0.  0.  0.  6. 13. 10.  0.  0.  0.  0.]\n",
      " [ 0.  0.  0.  0. 11. 16. 10.  0.  0.  1.]\n",
      " [ 0.  0.  0.  0.  3. 11. 16.  9.  0.  2.]\n",
      " [ 0.  0.  0.  7. 13. 13.  9.  0.  0.  3.]\n",
      " [ 0.  0.  0.  0.  2. 16.  4.  0.  0.  4.]]\n",
      "test:\n",
      " [[ 0.  0.  2. 12. 16. 13.  6.  0.  0.  3.]\n",
      " [ 0.  0.  0.  0. 12.  9.  0.  0.  0.  4.]\n",
      " [ 0.  0.  0.  5. 16. 16. 14.  1.  0.  5.]\n",
      " [ 0.  0.  0.  5. 13. 16. 12.  1.  0.  6.]\n",
      " [ 0.  0.  0.  3. 16.  2.  0.  0.  0.  7.]]\n",
      "\n",
      "\n",
      "\u001b[1mExamples after shuffling\u001b[0m\n",
      "shuffled train:\n",
      " [[ 0.  0.  0. 10. 15. 12.  3.  0.  0.  3.]\n",
      " [ 0.  0.  0.  3. 15. 16. 10.  1.  0.  6.]\n",
      " [ 0.  0.  0.  0. 10. 16. 12.  0.  0.  8.]\n",
      " [ 0.  0.  0.  0.  3. 15. 13.  0.  0.  1.]\n",
      " [ 0.  0.  0. 10. 16. 13.  3.  0.  0.  2.]]\n",
      "shuffled test:\n",
      " [[ 0.  0.  0.  7. 16. 16. 15.  0.  0.  0.]\n",
      " [ 0.  0.  0.  4. 15. 15. 12.  3.  0.  6.]\n",
      " [ 0.  0.  2. 13. 12.  9.  0.  0.  0.  2.]\n",
      " [ 0.  0.  3. 16. 15.  8.  7.  4.  0.  2.]\n",
      " [ 0.  0.  0. 11. 15.  8.  1.  0.  0.  5.]]\n"
     ]
    }
   ],
   "source": [
    "# Identify the number of samples and determine a treshold to split\n",
    "length_data = len(digits.data)\n",
    "split_data = round(length_data*0.8)\n",
    "\n",
    "# Split in training and testing sets\n",
    "X_train = digits.data[:split_data, :]\n",
    "X_test = digits.data[split_data:, :]\n",
    "Y_train = digits.target[:split_data]\n",
    "Y_test = digits.target[split_data:]\n",
    "\n",
    "print(\"\\033[1m\" + \"Data size\" + \"\\033[0m\")\n",
    "print(\"x train: \", X_train.shape)\n",
    "print(\"y train: \", Y_train.shape)\n",
    "print(\"x test: \", X_test.shape)\n",
    "print(\"y test: \", Y_test.shape)\n",
    "print(\"\\n\")\n",
    "\n",
    "# Concatenate features and labels to shuffle accordingly\n",
    "train = np.c_[X_train, Y_train]\n",
    "test = np.c_[X_test, Y_test]\n",
    "\n",
    "print(\"\\033[1m\" + \"Feature + label size\" + \"\\033[0m\")\n",
    "print(\"train: \", train.shape)\n",
    "print(\"test: \", test.shape)\n",
    "print(\"\\n\")\n",
    "\n",
    "print(\"\\033[1m\" + \"Examples before shuffling\" + \"\\033[0m\")\n",
    "print(\"train:\\n\", train[:5,55:])\n",
    "print(\"test:\\n\", test[:5,55:])\n",
    "print(\"\\n\")\n",
    "\n",
    "# Shuffle the data\n",
    "np.random.shuffle(train)\n",
    "np.random.shuffle(test)\n",
    "\n",
    "print(\"\\033[1m\" + \"Examples after shuffling\" + \"\\033[0m\")\n",
    "print(\"shuffled train:\\n\", train[:5,55:])\n",
    "print(\"shuffled test:\\n\", test[:5,55:])\n",
    "\n",
    "# Separate features and labels\n",
    "X_train = train[:,:-1]\n",
    "Y_train = train[:,-1]\n",
    "X_test = test[:,:-1]\n",
    "Y_test = test[:,-1]"
   ]
  },
  {
   "cell_type": "markdown",
   "metadata": {},
   "source": [
    "Now you are ready to start the training and testing. Remember that the training is made with the features (<b>X</b>) and labels (<b>Y</b>) corresponding to the training set, while the testing only requires the features (<b>X</b>) corresponding to the testing set, you do not provide the labels (<b>Y</b>) in this case as you don't want to give the correct answer to the method, it should guess!!."
   ]
  },
  {
   "cell_type": "code",
   "execution_count": 48,
   "metadata": {},
   "outputs": [],
   "source": [
    "# Define the ML method to use\n",
    "method = KNeighborsClassifier(n_neighbors=3)\n",
    "#method = GaussianNB()\n",
    "#method = DecisionTreeClassifier(random_state=0)\n",
    "#method = LinearDiscriminantAnalysis()\n",
    "\n",
    "method.fit(X_train, Y_train) # Train the method\n",
    "pred = method.predict(X_test) # Generate the predictions"
   ]
  },
  {
   "cell_type": "markdown",
   "metadata": {},
   "source": [
    "Until now you have your method trained and you made predictions using data that the method did not see before (the testing set). Now is time to test how good were your predictions. You stored your predictions in the variable <b>pred</b>, now let's compare with the actual results (<b>Y_test</b>) using some metrics.\n",
    "\n",
    "The confusion matrix you will display corresponds only to the label <b>0</b>. Plot by yourself the confusion matrices corresponding to the rest of the labels (this does not apply if you are using jupyter try, as it is not available, if this is the case replace the <b>ConfusionMatrixDisplay</b> command with a simple <b>print(cm)</b>, it is not visually pleasing but serves the purpose).\n",
    "\n",
    "<b>Hint:</b> The variable <b>cm</b> saves all the confusion matrices you need, you can access to each of them by indexing (<b>cm[index]</b>)"
   ]
  },
  {
   "cell_type": "code",
   "execution_count": 49,
   "metadata": {},
   "outputs": [
    {
     "name": "stdout",
     "output_type": "stream",
     "text": [
      "The accuracy is:  96.66 %\n"
     ]
    },
    {
     "ename": "ValueError",
     "evalue": "The number of FixedLocator locations (2), usually from a call to set_ticks, does not match the number of ticklabels (10).",
     "output_type": "error",
     "traceback": [
      "\u001b[1;31m---------------------------------------------------------------------------\u001b[0m",
      "\u001b[1;31mValueError\u001b[0m                                Traceback (most recent call last)",
      "Input \u001b[1;32mIn [49]\u001b[0m, in \u001b[0;36m<cell line: 11>\u001b[1;34m()\u001b[0m\n\u001b[0;32m      7\u001b[0m \u001b[38;5;28mprint\u001b[39m(\u001b[38;5;124m\"\u001b[39m\u001b[38;5;124mThe accuracy is: \u001b[39m\u001b[38;5;124m\"\u001b[39m, \u001b[38;5;28mround\u001b[39m(acc\u001b[38;5;241m*\u001b[39m\u001b[38;5;241m100\u001b[39m, \u001b[38;5;241m2\u001b[39m), \u001b[38;5;124m\"\u001b[39m\u001b[38;5;124m%\u001b[39m\u001b[38;5;124m\"\u001b[39m)\n\u001b[0;32m      9\u001b[0m disp \u001b[38;5;241m=\u001b[39m ConfusionMatrixDisplay(confusion_matrix\u001b[38;5;241m=\u001b[39mcm[\u001b[38;5;241m0\u001b[39m],\n\u001b[0;32m     10\u001b[0m                                  display_labels\u001b[38;5;241m=\u001b[39m[\u001b[38;5;241m0.\u001b[39m, \u001b[38;5;241m1.\u001b[39m, \u001b[38;5;241m2.\u001b[39m, \u001b[38;5;241m3.\u001b[39m, \u001b[38;5;241m4.\u001b[39m, \u001b[38;5;241m5.\u001b[39m, \u001b[38;5;241m6.\u001b[39m, \u001b[38;5;241m7.\u001b[39m, \u001b[38;5;241m8.\u001b[39m, \u001b[38;5;241m9.\u001b[39m])\n\u001b[1;32m---> 11\u001b[0m \u001b[43mdisp\u001b[49m\u001b[38;5;241;43m.\u001b[39;49m\u001b[43mplot\u001b[49m\u001b[43m(\u001b[49m\u001b[43m)\u001b[49m\n",
      "File \u001b[1;32m~\\anaconda3\\lib\\site-packages\\sklearn\\metrics\\_plot\\confusion_matrix.py:163\u001b[0m, in \u001b[0;36mConfusionMatrixDisplay.plot\u001b[1;34m(self, include_values, cmap, xticks_rotation, values_format, ax, colorbar)\u001b[0m\n\u001b[0;32m    161\u001b[0m \u001b[38;5;28;01mif\u001b[39;00m colorbar:\n\u001b[0;32m    162\u001b[0m     fig\u001b[38;5;241m.\u001b[39mcolorbar(\u001b[38;5;28mself\u001b[39m\u001b[38;5;241m.\u001b[39mim_, ax\u001b[38;5;241m=\u001b[39max)\n\u001b[1;32m--> 163\u001b[0m \u001b[43max\u001b[49m\u001b[38;5;241;43m.\u001b[39;49m\u001b[43mset\u001b[49m\u001b[43m(\u001b[49m\n\u001b[0;32m    164\u001b[0m \u001b[43m    \u001b[49m\u001b[43mxticks\u001b[49m\u001b[38;5;241;43m=\u001b[39;49m\u001b[43mnp\u001b[49m\u001b[38;5;241;43m.\u001b[39;49m\u001b[43marange\u001b[49m\u001b[43m(\u001b[49m\u001b[43mn_classes\u001b[49m\u001b[43m)\u001b[49m\u001b[43m,\u001b[49m\n\u001b[0;32m    165\u001b[0m \u001b[43m    \u001b[49m\u001b[43myticks\u001b[49m\u001b[38;5;241;43m=\u001b[39;49m\u001b[43mnp\u001b[49m\u001b[38;5;241;43m.\u001b[39;49m\u001b[43marange\u001b[49m\u001b[43m(\u001b[49m\u001b[43mn_classes\u001b[49m\u001b[43m)\u001b[49m\u001b[43m,\u001b[49m\n\u001b[0;32m    166\u001b[0m \u001b[43m    \u001b[49m\u001b[43mxticklabels\u001b[49m\u001b[38;5;241;43m=\u001b[39;49m\u001b[43mdisplay_labels\u001b[49m\u001b[43m,\u001b[49m\n\u001b[0;32m    167\u001b[0m \u001b[43m    \u001b[49m\u001b[43myticklabels\u001b[49m\u001b[38;5;241;43m=\u001b[39;49m\u001b[43mdisplay_labels\u001b[49m\u001b[43m,\u001b[49m\n\u001b[0;32m    168\u001b[0m \u001b[43m    \u001b[49m\u001b[43mylabel\u001b[49m\u001b[38;5;241;43m=\u001b[39;49m\u001b[38;5;124;43m\"\u001b[39;49m\u001b[38;5;124;43mTrue label\u001b[39;49m\u001b[38;5;124;43m\"\u001b[39;49m\u001b[43m,\u001b[49m\n\u001b[0;32m    169\u001b[0m \u001b[43m    \u001b[49m\u001b[43mxlabel\u001b[49m\u001b[38;5;241;43m=\u001b[39;49m\u001b[38;5;124;43m\"\u001b[39;49m\u001b[38;5;124;43mPredicted label\u001b[39;49m\u001b[38;5;124;43m\"\u001b[39;49m\u001b[43m,\u001b[49m\n\u001b[0;32m    170\u001b[0m \u001b[43m\u001b[49m\u001b[43m)\u001b[49m\n\u001b[0;32m    172\u001b[0m ax\u001b[38;5;241m.\u001b[39mset_ylim((n_classes \u001b[38;5;241m-\u001b[39m \u001b[38;5;241m0.5\u001b[39m, \u001b[38;5;241m-\u001b[39m\u001b[38;5;241m0.5\u001b[39m))\n\u001b[0;32m    173\u001b[0m plt\u001b[38;5;241m.\u001b[39msetp(ax\u001b[38;5;241m.\u001b[39mget_xticklabels(), rotation\u001b[38;5;241m=\u001b[39mxticks_rotation)\n",
      "File \u001b[1;32m~\\anaconda3\\lib\\site-packages\\matplotlib\\artist.py:116\u001b[0m, in \u001b[0;36mArtist.__init_subclass__.<locals>.<lambda>\u001b[1;34m(self, **kwargs)\u001b[0m\n\u001b[0;32m    108\u001b[0m \u001b[38;5;28;01mif\u001b[39;00m \u001b[38;5;129;01mnot\u001b[39;00m \u001b[38;5;28mhasattr\u001b[39m(\u001b[38;5;28mcls\u001b[39m\u001b[38;5;241m.\u001b[39mset, \u001b[38;5;124m'\u001b[39m\u001b[38;5;124m_autogenerated_signature\u001b[39m\u001b[38;5;124m'\u001b[39m):\n\u001b[0;32m    109\u001b[0m     \u001b[38;5;66;03m# Don't overwrite cls.set if the subclass or one of its parents\u001b[39;00m\n\u001b[0;32m    110\u001b[0m     \u001b[38;5;66;03m# has defined a set method set itself.\u001b[39;00m\n\u001b[0;32m    111\u001b[0m     \u001b[38;5;66;03m# If there was no explicit definition, cls.set is inherited from\u001b[39;00m\n\u001b[0;32m    112\u001b[0m     \u001b[38;5;66;03m# the hierarchy of auto-generated set methods, which hold the\u001b[39;00m\n\u001b[0;32m    113\u001b[0m     \u001b[38;5;66;03m# flag _autogenerated_signature.\u001b[39;00m\n\u001b[0;32m    114\u001b[0m     \u001b[38;5;28;01mreturn\u001b[39;00m\n\u001b[1;32m--> 116\u001b[0m \u001b[38;5;28mcls\u001b[39m\u001b[38;5;241m.\u001b[39mset \u001b[38;5;241m=\u001b[39m \u001b[38;5;28;01mlambda\u001b[39;00m \u001b[38;5;28mself\u001b[39m, \u001b[38;5;241m*\u001b[39m\u001b[38;5;241m*\u001b[39mkwargs: Artist\u001b[38;5;241m.\u001b[39mset(\u001b[38;5;28mself\u001b[39m, \u001b[38;5;241m*\u001b[39m\u001b[38;5;241m*\u001b[39mkwargs)\n\u001b[0;32m    117\u001b[0m \u001b[38;5;28mcls\u001b[39m\u001b[38;5;241m.\u001b[39mset\u001b[38;5;241m.\u001b[39m\u001b[38;5;18m__name__\u001b[39m \u001b[38;5;241m=\u001b[39m \u001b[38;5;124m\"\u001b[39m\u001b[38;5;124mset\u001b[39m\u001b[38;5;124m\"\u001b[39m\n\u001b[0;32m    118\u001b[0m \u001b[38;5;28mcls\u001b[39m\u001b[38;5;241m.\u001b[39mset\u001b[38;5;241m.\u001b[39m\u001b[38;5;18m__qualname__\u001b[39m \u001b[38;5;241m=\u001b[39m \u001b[38;5;124mf\u001b[39m\u001b[38;5;124m\"\u001b[39m\u001b[38;5;132;01m{\u001b[39;00m\u001b[38;5;28mcls\u001b[39m\u001b[38;5;241m.\u001b[39m\u001b[38;5;18m__qualname__\u001b[39m\u001b[38;5;132;01m}\u001b[39;00m\u001b[38;5;124m.set\u001b[39m\u001b[38;5;124m\"\u001b[39m\n",
      "File \u001b[1;32m~\\anaconda3\\lib\\site-packages\\matplotlib\\artist.py:1164\u001b[0m, in \u001b[0;36mArtist.set\u001b[1;34m(self, **kwargs)\u001b[0m\n\u001b[0;32m   1159\u001b[0m \u001b[38;5;28;01mdef\u001b[39;00m \u001b[38;5;21mset\u001b[39m(\u001b[38;5;28mself\u001b[39m, \u001b[38;5;241m*\u001b[39m\u001b[38;5;241m*\u001b[39mkwargs):\n\u001b[0;32m   1160\u001b[0m     \u001b[38;5;66;03m# docstring and signature are auto-generated via\u001b[39;00m\n\u001b[0;32m   1161\u001b[0m     \u001b[38;5;66;03m# Artist._update_set_signature_and_docstring() at the end of the\u001b[39;00m\n\u001b[0;32m   1162\u001b[0m     \u001b[38;5;66;03m# module.\u001b[39;00m\n\u001b[0;32m   1163\u001b[0m     kwargs \u001b[38;5;241m=\u001b[39m cbook\u001b[38;5;241m.\u001b[39mnormalize_kwargs(kwargs, \u001b[38;5;28mself\u001b[39m)\n\u001b[1;32m-> 1164\u001b[0m     \u001b[38;5;28;01mreturn\u001b[39;00m \u001b[38;5;28;43mself\u001b[39;49m\u001b[38;5;241;43m.\u001b[39;49m\u001b[43mupdate\u001b[49m\u001b[43m(\u001b[49m\u001b[43mkwargs\u001b[49m\u001b[43m)\u001b[49m\n",
      "File \u001b[1;32m~\\anaconda3\\lib\\site-packages\\matplotlib\\artist.py:1066\u001b[0m, in \u001b[0;36mArtist.update\u001b[1;34m(self, props)\u001b[0m\n\u001b[0;32m   1063\u001b[0m             \u001b[38;5;28;01mif\u001b[39;00m \u001b[38;5;129;01mnot\u001b[39;00m callable(func):\n\u001b[0;32m   1064\u001b[0m                 \u001b[38;5;28;01mraise\u001b[39;00m \u001b[38;5;167;01mAttributeError\u001b[39;00m(\u001b[38;5;124mf\u001b[39m\u001b[38;5;124m\"\u001b[39m\u001b[38;5;132;01m{\u001b[39;00m\u001b[38;5;28mtype\u001b[39m(\u001b[38;5;28mself\u001b[39m)\u001b[38;5;241m.\u001b[39m\u001b[38;5;18m__name__\u001b[39m\u001b[38;5;132;01m!r}\u001b[39;00m\u001b[38;5;124m object \u001b[39m\u001b[38;5;124m\"\u001b[39m\n\u001b[0;32m   1065\u001b[0m                                      \u001b[38;5;124mf\u001b[39m\u001b[38;5;124m\"\u001b[39m\u001b[38;5;124mhas no property \u001b[39m\u001b[38;5;132;01m{\u001b[39;00mk\u001b[38;5;132;01m!r}\u001b[39;00m\u001b[38;5;124m\"\u001b[39m)\n\u001b[1;32m-> 1066\u001b[0m             ret\u001b[38;5;241m.\u001b[39mappend(\u001b[43mfunc\u001b[49m\u001b[43m(\u001b[49m\u001b[43mv\u001b[49m\u001b[43m)\u001b[49m)\n\u001b[0;32m   1067\u001b[0m \u001b[38;5;28;01mif\u001b[39;00m ret:\n\u001b[0;32m   1068\u001b[0m     \u001b[38;5;28mself\u001b[39m\u001b[38;5;241m.\u001b[39mpchanged()\n",
      "File \u001b[1;32m~\\anaconda3\\lib\\site-packages\\matplotlib\\axes\\_base.py:75\u001b[0m, in \u001b[0;36m_axis_method_wrapper.__set_name__.<locals>.wrapper\u001b[1;34m(self, *args, **kwargs)\u001b[0m\n\u001b[0;32m     74\u001b[0m \u001b[38;5;28;01mdef\u001b[39;00m \u001b[38;5;21mwrapper\u001b[39m(\u001b[38;5;28mself\u001b[39m, \u001b[38;5;241m*\u001b[39margs, \u001b[38;5;241m*\u001b[39m\u001b[38;5;241m*\u001b[39mkwargs):\n\u001b[1;32m---> 75\u001b[0m     \u001b[38;5;28;01mreturn\u001b[39;00m get_method(\u001b[38;5;28mself\u001b[39m)(\u001b[38;5;241m*\u001b[39margs, \u001b[38;5;241m*\u001b[39m\u001b[38;5;241m*\u001b[39mkwargs)\n",
      "File \u001b[1;32m~\\anaconda3\\lib\\site-packages\\matplotlib\\axis.py:1798\u001b[0m, in \u001b[0;36mAxis._set_ticklabels\u001b[1;34m(self, labels, fontdict, minor, **kwargs)\u001b[0m\n\u001b[0;32m   1796\u001b[0m \u001b[38;5;28;01mif\u001b[39;00m fontdict \u001b[38;5;129;01mis\u001b[39;00m \u001b[38;5;129;01mnot\u001b[39;00m \u001b[38;5;28;01mNone\u001b[39;00m:\n\u001b[0;32m   1797\u001b[0m     kwargs\u001b[38;5;241m.\u001b[39mupdate(fontdict)\n\u001b[1;32m-> 1798\u001b[0m \u001b[38;5;28;01mreturn\u001b[39;00m \u001b[38;5;28mself\u001b[39m\u001b[38;5;241m.\u001b[39mset_ticklabels(labels, minor\u001b[38;5;241m=\u001b[39mminor, \u001b[38;5;241m*\u001b[39m\u001b[38;5;241m*\u001b[39mkwargs)\n",
      "File \u001b[1;32m~\\anaconda3\\lib\\site-packages\\matplotlib\\axis.py:1720\u001b[0m, in \u001b[0;36mAxis.set_ticklabels\u001b[1;34m(self, ticklabels, minor, **kwargs)\u001b[0m\n\u001b[0;32m   1716\u001b[0m \u001b[38;5;28;01mif\u001b[39;00m \u001b[38;5;28misinstance\u001b[39m(locator, mticker\u001b[38;5;241m.\u001b[39mFixedLocator):\n\u001b[0;32m   1717\u001b[0m     \u001b[38;5;66;03m# Passing [] as a list of ticklabels is often used as a way to\u001b[39;00m\n\u001b[0;32m   1718\u001b[0m     \u001b[38;5;66;03m# remove all tick labels, so only error for > 0 ticklabels\u001b[39;00m\n\u001b[0;32m   1719\u001b[0m     \u001b[38;5;28;01mif\u001b[39;00m \u001b[38;5;28mlen\u001b[39m(locator\u001b[38;5;241m.\u001b[39mlocs) \u001b[38;5;241m!=\u001b[39m \u001b[38;5;28mlen\u001b[39m(ticklabels) \u001b[38;5;129;01mand\u001b[39;00m \u001b[38;5;28mlen\u001b[39m(ticklabels) \u001b[38;5;241m!=\u001b[39m \u001b[38;5;241m0\u001b[39m:\n\u001b[1;32m-> 1720\u001b[0m         \u001b[38;5;28;01mraise\u001b[39;00m \u001b[38;5;167;01mValueError\u001b[39;00m(\n\u001b[0;32m   1721\u001b[0m             \u001b[38;5;124m\"\u001b[39m\u001b[38;5;124mThe number of FixedLocator locations\u001b[39m\u001b[38;5;124m\"\u001b[39m\n\u001b[0;32m   1722\u001b[0m             \u001b[38;5;124mf\u001b[39m\u001b[38;5;124m\"\u001b[39m\u001b[38;5;124m (\u001b[39m\u001b[38;5;132;01m{\u001b[39;00m\u001b[38;5;28mlen\u001b[39m(locator\u001b[38;5;241m.\u001b[39mlocs)\u001b[38;5;132;01m}\u001b[39;00m\u001b[38;5;124m), usually from a call to\u001b[39m\u001b[38;5;124m\"\u001b[39m\n\u001b[0;32m   1723\u001b[0m             \u001b[38;5;124m\"\u001b[39m\u001b[38;5;124m set_ticks, does not match\u001b[39m\u001b[38;5;124m\"\u001b[39m\n\u001b[0;32m   1724\u001b[0m             \u001b[38;5;124mf\u001b[39m\u001b[38;5;124m\"\u001b[39m\u001b[38;5;124m the number of ticklabels (\u001b[39m\u001b[38;5;132;01m{\u001b[39;00m\u001b[38;5;28mlen\u001b[39m(ticklabels)\u001b[38;5;132;01m}\u001b[39;00m\u001b[38;5;124m).\u001b[39m\u001b[38;5;124m\"\u001b[39m)\n\u001b[0;32m   1725\u001b[0m     tickd \u001b[38;5;241m=\u001b[39m {loc: lab \u001b[38;5;28;01mfor\u001b[39;00m loc, lab \u001b[38;5;129;01min\u001b[39;00m \u001b[38;5;28mzip\u001b[39m(locator\u001b[38;5;241m.\u001b[39mlocs, ticklabels)}\n\u001b[0;32m   1726\u001b[0m     func \u001b[38;5;241m=\u001b[39m functools\u001b[38;5;241m.\u001b[39mpartial(\u001b[38;5;28mself\u001b[39m\u001b[38;5;241m.\u001b[39m_format_with_dict, tickd)\n",
      "\u001b[1;31mValueError\u001b[0m: The number of FixedLocator locations (2), usually from a call to set_ticks, does not match the number of ticklabels (10)."
     ]
    },
    {
     "data": {
      "image/png": "[encoded data removed]",
      "text/plain": [
       "<Figure size 432x288 with 2 Axes>"
      ]
     },
     "metadata": {
      "needs_background": "light"
     },
     "output_type": "display_data"
    }
   ],
   "source": [
    "acc = accuracy_score(Y_test, pred) # accuracy\n",
    "cm = multilabel_confusion_matrix(Y_test, # confusion matrix per label\n",
    "                            pred,\n",
    "                            labels=[0., 1., 2., 3., 4., 5., 6., 7., 8., 9.])\n",
    "\n",
    "\n",
    "print(\"The accuracy is: \", round(acc*100, 2), \"%\")\n",
    "\n",
    "disp = ConfusionMatrixDisplay(confusion_matrix=cm[0],\n",
    "                                 display_labels=[0., 1., 2., 3., 4., 5., 6., 7., 8., 9.])\n",
    "disp.plot()\n",
    "# tree.plot_tree(method)"
   ]
  },
  {
   "cell_type": "markdown",
   "metadata": {},
   "source": [
    "You have a complete program that trains a ML method, makes predictions and evaluates them. Now you should try with different ML methods. The following methods are the ones expected:\n",
    "\n",
    "<b>Naive Bayes</b>:\n",
    "\n",
    "You can import it using <i>from sklearn.naive_bayes import GaussianNB</i> in the first cell\n",
    "\n",
    "You define the method using <i>GaussianNB()</i>\n",
    "    \n",
    "\n",
    "<b>CART</b>:\n",
    "\n",
    "Import with <i>from sklearn.tree import DecisionTreeClassifier</i>\n",
    "\n",
    "Define with <i>DecisionTreeClassifier(random_state=0)</i>\n",
    "\n",
    "In this case, after fitting the method (the training part) use <i>tree.plot_tree(method)</i> to visualize the tree.\n",
    "    \n",
    "\n",
    "<b>LDA</b>:\n",
    "\n",
    "Import with <i>from sklearn.discriminant_analysis import LinearDiscriminantAnalysis</i>\n",
    "\n",
    "Define with <i>LinearDiscriminantAnalysis()</i>"
   ]
  },
  {
   "cell_type": "markdown",
   "metadata": {},
   "source": [
    "When you finish use an extra markdown cell at the end to explain which method you think that provided the best result."
   ]
  },
  {
   "cell_type": "markdown",
   "metadata": {},
   "source": [
    "Si se comparan los 4 métodos usados, el del ejemplo y los otros 3 mencionados(Naive Bayes, CART, LDA) el mejor entre todos es el del ejemplo. Esto es posible conocerlo debido a la precisión que muestra la matriz de confusión. En el caso del método \"KNeighbors\" sus valores están la mayoría considerados como verdaderos positivos y verdaderos negativos y no se coloca ninguno como falsos resultados. Este tiene una precisión de 96.66%. Si se comparan ahora los otros 3 métodos restantes el mejor sería el de \"LDA\", esto es debido a que su precisión es de 89.97%, mientras que para Naive es 81.34% y por último CART con 78.27%. En \"Naive\" solo se tienen 2 valores en la matriz de confusión como falsos resultados, solo un falso positivo y otro falso negativo"
   ]
  }
 ],
 "metadata": {
  "kernelspec": {
   "display_name": "Python 3 (ipykernel)",
   "language": "python",
   "name": "python3"
  },
  "language_info": {
   "codemirror_mode": {
    "name": "ipython",
    "version": 3
   },
   "file_extension": ".py",
   "mimetype": "text/x-python",
   "name": "python",
   "nbconvert_exporter": "python",
   "pygments_lexer": "ipython3",
   "version": "3.9.12"
  }
 },
 "nbformat": 4,
 "nbformat_minor": 4
}
